{
 "cells": [
  {
   "cell_type": "code",
   "execution_count": 6,
   "id": "a43adc61",
   "metadata": {
    "vscode": {
     "languageId": "plaintext"
    }
   },
   "outputs": [
    {
     "name": "stdout",
     "output_type": "stream",
     "text": [
      "✅ All models and encoders saved.\n"
     ]
    }
   ],
   "source": [
    "# 1. Import libraries\n",
    "import pandas as pd\n",
    "import numpy as np\n",
    "from sklearn.model_selection import train_test_split\n",
    "from sklearn.ensemble import RandomForestClassifier\n",
    "from sklearn.preprocessing import LabelEncoder\n",
    "import pickle\n",
    "\n",
    "# 2. Load dataset\n",
    "df = pd.read_csv(\"large_data_core.csv\")\n",
    "\n",
    "# 3. Encode categorical features\n",
    "soil_encoder = LabelEncoder()\n",
    "crop_encoder = LabelEncoder()\n",
    "fertilizer_encoder = LabelEncoder()\n",
    "timing_encoder = LabelEncoder()\n",
    "\n",
    "df[\"Soil_Type_Enc\"] = soil_encoder.fit_transform(df[\"Soil_Type\"])\n",
    "df[\"Crop_Type_Enc\"] = crop_encoder.fit_transform(df[\"Crop_Type\"])\n",
    "df[\"Fertilizer_Type_Enc\"] = fertilizer_encoder.fit_transform(df[\"Fertilizer_Type\"])\n",
    "df[\"Fertilizer_Time_Enc\"] = timing_encoder.fit_transform(df[\"Fertilizer_Time\"])\n",
    "\n",
    "# 4. Split into features and targets\n",
    "X = df[[\n",
    "    \"Soil_Type_Enc\", \n",
    "    \"Soil_pH\", \n",
    "    \"Crop_Type_Enc\", \n",
    "    \"Temperature\", \n",
    "    \"Humidity\", \n",
    "    \"Rainfall\"\n",
    "]]\n",
    "y_type = df[\"Fertilizer_Type_Enc\"]\n",
    "y_quantity = df[\"Fertilizer_Quantity\"]\n",
    "y_timing = df[\"Fertilizer_Time_Enc\"]\n",
    "\n",
    "# 5. Train/test split\n",
    "X_train, X_test, y_type_train, y_type_test = train_test_split(X, y_type, test_size=0.2, random_state=42)\n",
    "_, _, y_quantity_train, y_quantity_test = train_test_split(X, y_quantity, test_size=0.2, random_state=42)\n",
    "_, _, y_timing_train, y_timing_test = train_test_split(X, y_timing, test_size=0.2, random_state=42)\n",
    "\n",
    "# 6. Train models\n",
    "model_type = RandomForestClassifier(n_estimators=100, random_state=42)\n",
    "model_type.fit(X_train, y_type_train)\n",
    "\n",
    "model_quantity = RandomForestClassifier(n_estimators=100, random_state=42)\n",
    "model_quantity.fit(X_train, y_quantity_train)\n",
    "\n",
    "model_timing = RandomForestClassifier(n_estimators=100, random_state=42)\n",
    "model_timing.fit(X_train, y_timing_train)\n",
    "\n",
    "# 7. Save models and encoders\n",
    "pickle.dump(model_type, open(\"fertilizer_type_model.pkl\", \"wb\"))\n",
    "pickle.dump(model_quantity, open(\"fertilizer_quantity_model.pkl\", \"wb\"))\n",
    "pickle.dump(model_timing, open(\"fertilizer_timing_model.pkl\", \"wb\"))\n",
    "pickle.dump(soil_encoder, open(\"soil_encoder.pkl\", \"wb\"))\n",
    "pickle.dump(crop_encoder, open(\"crop_encoder.pkl\", \"wb\"))\n",
    "pickle.dump(fertilizer_encoder, open(\"fertilizer_encoder.pkl\", \"wb\"))\n",
    "pickle.dump(timing_encoder, open(\"timing_encoder.pkl\", \"wb\"))\n",
    "\n",
    "print(\"✅ All models and encoders saved.\")\n"
   ]
  },
  {
   "cell_type": "code",
   "execution_count": null,
   "id": "29ac640a",
   "metadata": {
    "vscode": {
     "languageId": "plaintext"
    }
   },
   "outputs": [],
   "source": []
  }
 ],
 "metadata": {
  "kernelspec": {
   "display_name": "Python 3 (ipykernel)",
   "language": "python",
   "name": "python3"
  },
  "language_info": {
   "codemirror_mode": {
    "name": "ipython",
    "version": 3
   },
   "file_extension": ".py",
   "mimetype": "text/x-python",
   "name": "python",
   "nbconvert_exporter": "python",
   "pygments_lexer": "ipython3",
   "version": "3.12.5"
  }
 },
 "nbformat": 4,
 "nbformat_minor": 5
}
